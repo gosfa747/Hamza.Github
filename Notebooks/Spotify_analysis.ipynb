{
 "cells": [
  {
   "cell_type": "code",
   "execution_count": 370,
   "metadata": {},
   "outputs": [],
   "source": [
    "import pandas as pd\n",
    "import numpy as np\n",
    "import seaborn as sns\n",
    "import matplotlib.pyplot as plt\n",
    "%matplotlib inline"
   ]
  },
  {
   "cell_type": "code",
   "execution_count": 150,
   "metadata": {},
   "outputs": [],
   "source": [
    "data_0=pd.read_csv('./datasets/streaminghistory0.csv')\n",
    "data_1=pd.read_csv('./datasets/streaminghistory1.csv')\n",
    "data_2=pd.read_csv('./datasets/streaminghistory2.csv')"
   ]
  },
  {
   "cell_type": "code",
   "execution_count": 151,
   "metadata": {},
   "outputs": [],
   "source": [
    "df=pd.concat((data_0,data_1,data_2))"
   ]
  },
  {
   "cell_type": "code",
   "execution_count": 152,
   "metadata": {},
   "outputs": [
    {
     "data": {
      "text/html": [
       "<div>\n",
       "<style scoped>\n",
       "    .dataframe tbody tr th:only-of-type {\n",
       "        vertical-align: middle;\n",
       "    }\n",
       "\n",
       "    .dataframe tbody tr th {\n",
       "        vertical-align: top;\n",
       "    }\n",
       "\n",
       "    .dataframe thead th {\n",
       "        text-align: right;\n",
       "    }\n",
       "</style>\n",
       "<table border=\"1\" class=\"dataframe\">\n",
       "  <thead>\n",
       "    <tr style=\"text-align: right;\">\n",
       "      <th></th>\n",
       "      <th>endTime</th>\n",
       "      <th>artistName</th>\n",
       "      <th>trackName</th>\n",
       "      <th>msPlayed</th>\n",
       "    </tr>\n",
       "  </thead>\n",
       "  <tbody>\n",
       "    <tr>\n",
       "      <th>0</th>\n",
       "      <td>2019-08-14 07:25</td>\n",
       "      <td>Call Her Daddy</td>\n",
       "      <td>11 - MILF Hunting Season</td>\n",
       "      <td>276948</td>\n",
       "    </tr>\n",
       "    <tr>\n",
       "      <th>1</th>\n",
       "      <td>2019-08-15 00:42</td>\n",
       "      <td>Call Her Daddy</td>\n",
       "      <td>11 - MILF Hunting Season</td>\n",
       "      <td>44074</td>\n",
       "    </tr>\n",
       "    <tr>\n",
       "      <th>2</th>\n",
       "      <td>2019-08-15 03:05</td>\n",
       "      <td>The Daily</td>\n",
       "      <td>Inside Hong Kong’s Airport</td>\n",
       "      <td>1011541</td>\n",
       "    </tr>\n",
       "    <tr>\n",
       "      <th>3</th>\n",
       "      <td>2019-08-15 03:08</td>\n",
       "      <td>JENNIE</td>\n",
       "      <td>SOLO</td>\n",
       "      <td>169566</td>\n",
       "    </tr>\n",
       "    <tr>\n",
       "      <th>4</th>\n",
       "      <td>2019-08-15 03:10</td>\n",
       "      <td>CHUNG HA</td>\n",
       "      <td>Gotta Go</td>\n",
       "      <td>109869</td>\n",
       "    </tr>\n",
       "  </tbody>\n",
       "</table>\n",
       "</div>"
      ],
      "text/plain": [
       "            endTime      artistName                   trackName  msPlayed\n",
       "0  2019-08-14 07:25  Call Her Daddy   11 - MILF Hunting Season     276948\n",
       "1  2019-08-15 00:42  Call Her Daddy   11 - MILF Hunting Season      44074\n",
       "2  2019-08-15 03:05       The Daily  Inside Hong Kong’s Airport   1011541\n",
       "3  2019-08-15 03:08          JENNIE                        SOLO    169566\n",
       "4  2019-08-15 03:10        CHUNG HA                    Gotta Go    109869"
      ]
     },
     "execution_count": 152,
     "metadata": {},
     "output_type": "execute_result"
    }
   ],
   "source": [
    "df.head()"
   ]
  },
  {
   "cell_type": "code",
   "execution_count": 153,
   "metadata": {},
   "outputs": [],
   "source": [
    "#convert artist and track name to all lower case"
   ]
  },
  {
   "cell_type": "code",
   "execution_count": 154,
   "metadata": {},
   "outputs": [],
   "source": [
    "df['artistName']=df['artistName'].str.lower()"
   ]
  },
  {
   "cell_type": "code",
   "execution_count": 155,
   "metadata": {},
   "outputs": [],
   "source": [
    "df['trackName']=df['trackName'].str.lower()"
   ]
  },
  {
   "cell_type": "code",
   "execution_count": 156,
   "metadata": {},
   "outputs": [
    {
     "data": {
      "text/html": [
       "<div>\n",
       "<style scoped>\n",
       "    .dataframe tbody tr th:only-of-type {\n",
       "        vertical-align: middle;\n",
       "    }\n",
       "\n",
       "    .dataframe tbody tr th {\n",
       "        vertical-align: top;\n",
       "    }\n",
       "\n",
       "    .dataframe thead th {\n",
       "        text-align: right;\n",
       "    }\n",
       "</style>\n",
       "<table border=\"1\" class=\"dataframe\">\n",
       "  <thead>\n",
       "    <tr style=\"text-align: right;\">\n",
       "      <th></th>\n",
       "      <th>endTime</th>\n",
       "      <th>artistName</th>\n",
       "      <th>trackName</th>\n",
       "      <th>msPlayed</th>\n",
       "    </tr>\n",
       "  </thead>\n",
       "  <tbody>\n",
       "    <tr>\n",
       "      <th>0</th>\n",
       "      <td>2019-08-14 07:25</td>\n",
       "      <td>call her daddy</td>\n",
       "      <td>11 - milf hunting season</td>\n",
       "      <td>276948</td>\n",
       "    </tr>\n",
       "    <tr>\n",
       "      <th>1</th>\n",
       "      <td>2019-08-15 00:42</td>\n",
       "      <td>call her daddy</td>\n",
       "      <td>11 - milf hunting season</td>\n",
       "      <td>44074</td>\n",
       "    </tr>\n",
       "    <tr>\n",
       "      <th>2</th>\n",
       "      <td>2019-08-15 03:05</td>\n",
       "      <td>the daily</td>\n",
       "      <td>inside hong kong’s airport</td>\n",
       "      <td>1011541</td>\n",
       "    </tr>\n",
       "    <tr>\n",
       "      <th>3</th>\n",
       "      <td>2019-08-15 03:08</td>\n",
       "      <td>jennie</td>\n",
       "      <td>solo</td>\n",
       "      <td>169566</td>\n",
       "    </tr>\n",
       "    <tr>\n",
       "      <th>4</th>\n",
       "      <td>2019-08-15 03:10</td>\n",
       "      <td>chung ha</td>\n",
       "      <td>gotta go</td>\n",
       "      <td>109869</td>\n",
       "    </tr>\n",
       "  </tbody>\n",
       "</table>\n",
       "</div>"
      ],
      "text/plain": [
       "            endTime      artistName                   trackName  msPlayed\n",
       "0  2019-08-14 07:25  call her daddy   11 - milf hunting season     276948\n",
       "1  2019-08-15 00:42  call her daddy   11 - milf hunting season      44074\n",
       "2  2019-08-15 03:05       the daily  inside hong kong’s airport   1011541\n",
       "3  2019-08-15 03:08          jennie                        solo    169566\n",
       "4  2019-08-15 03:10        chung ha                    gotta go    109869"
      ]
     },
     "execution_count": 156,
     "metadata": {},
     "output_type": "execute_result"
    }
   ],
   "source": [
    "df.head()"
   ]
  },
  {
   "cell_type": "code",
   "execution_count": 157,
   "metadata": {},
   "outputs": [
    {
     "data": {
      "text/plain": [
       "endTime       object\n",
       "artistName    object\n",
       "trackName     object\n",
       "msPlayed       int64\n",
       "dtype: object"
      ]
     },
     "execution_count": 157,
     "metadata": {},
     "output_type": "execute_result"
    }
   ],
   "source": [
    "df.dtypes"
   ]
  },
  {
   "cell_type": "code",
   "execution_count": 158,
   "metadata": {},
   "outputs": [],
   "source": [
    "#convert endTime into data time formats and extract day month and year"
   ]
  },
  {
   "cell_type": "code",
   "execution_count": 159,
   "metadata": {},
   "outputs": [],
   "source": [
    "df['endTime']=pd.to_datetime(df['endTime'],format='%Y-%m-%d %H:%M')"
   ]
  },
  {
   "cell_type": "code",
   "execution_count": 160,
   "metadata": {},
   "outputs": [
    {
     "data": {
      "text/html": [
       "<div>\n",
       "<style scoped>\n",
       "    .dataframe tbody tr th:only-of-type {\n",
       "        vertical-align: middle;\n",
       "    }\n",
       "\n",
       "    .dataframe tbody tr th {\n",
       "        vertical-align: top;\n",
       "    }\n",
       "\n",
       "    .dataframe thead th {\n",
       "        text-align: right;\n",
       "    }\n",
       "</style>\n",
       "<table border=\"1\" class=\"dataframe\">\n",
       "  <thead>\n",
       "    <tr style=\"text-align: right;\">\n",
       "      <th></th>\n",
       "      <th>endTime</th>\n",
       "      <th>artistName</th>\n",
       "      <th>trackName</th>\n",
       "      <th>msPlayed</th>\n",
       "    </tr>\n",
       "  </thead>\n",
       "  <tbody>\n",
       "    <tr>\n",
       "      <th>0</th>\n",
       "      <td>2019-08-14 07:25:00</td>\n",
       "      <td>call her daddy</td>\n",
       "      <td>11 - milf hunting season</td>\n",
       "      <td>276948</td>\n",
       "    </tr>\n",
       "    <tr>\n",
       "      <th>1</th>\n",
       "      <td>2019-08-15 00:42:00</td>\n",
       "      <td>call her daddy</td>\n",
       "      <td>11 - milf hunting season</td>\n",
       "      <td>44074</td>\n",
       "    </tr>\n",
       "    <tr>\n",
       "      <th>2</th>\n",
       "      <td>2019-08-15 03:05:00</td>\n",
       "      <td>the daily</td>\n",
       "      <td>inside hong kong’s airport</td>\n",
       "      <td>1011541</td>\n",
       "    </tr>\n",
       "    <tr>\n",
       "      <th>3</th>\n",
       "      <td>2019-08-15 03:08:00</td>\n",
       "      <td>jennie</td>\n",
       "      <td>solo</td>\n",
       "      <td>169566</td>\n",
       "    </tr>\n",
       "    <tr>\n",
       "      <th>4</th>\n",
       "      <td>2019-08-15 03:10:00</td>\n",
       "      <td>chung ha</td>\n",
       "      <td>gotta go</td>\n",
       "      <td>109869</td>\n",
       "    </tr>\n",
       "  </tbody>\n",
       "</table>\n",
       "</div>"
      ],
      "text/plain": [
       "              endTime      artistName                   trackName  msPlayed\n",
       "0 2019-08-14 07:25:00  call her daddy   11 - milf hunting season     276948\n",
       "1 2019-08-15 00:42:00  call her daddy   11 - milf hunting season      44074\n",
       "2 2019-08-15 03:05:00       the daily  inside hong kong’s airport   1011541\n",
       "3 2019-08-15 03:08:00          jennie                        solo    169566\n",
       "4 2019-08-15 03:10:00        chung ha                    gotta go    109869"
      ]
     },
     "execution_count": 160,
     "metadata": {},
     "output_type": "execute_result"
    }
   ],
   "source": [
    "df.head()"
   ]
  },
  {
   "cell_type": "code",
   "execution_count": 161,
   "metadata": {},
   "outputs": [],
   "source": [
    "#seperate my podcasts and music (if msplayed is greater than 15 mins (900000 ms) )"
   ]
  },
  {
   "cell_type": "code",
   "execution_count": 162,
   "metadata": {},
   "outputs": [],
   "source": [
    "df_podcasts=df.loc[df['msPlayed']>900000]"
   ]
  },
  {
   "cell_type": "code",
   "execution_count": 163,
   "metadata": {},
   "outputs": [],
   "source": [
    "df_podcasts=df_podcasts.groupby([ 'artistName'], as_index=False).sum().sort_values(by='msPlayed', ascending = False)"
   ]
  },
  {
   "cell_type": "code",
   "execution_count": 164,
   "metadata": {},
   "outputs": [
    {
     "data": {
      "text/html": [
       "<div>\n",
       "<style scoped>\n",
       "    .dataframe tbody tr th:only-of-type {\n",
       "        vertical-align: middle;\n",
       "    }\n",
       "\n",
       "    .dataframe tbody tr th {\n",
       "        vertical-align: top;\n",
       "    }\n",
       "\n",
       "    .dataframe thead th {\n",
       "        text-align: right;\n",
       "    }\n",
       "</style>\n",
       "<table border=\"1\" class=\"dataframe\">\n",
       "  <thead>\n",
       "    <tr style=\"text-align: right;\">\n",
       "      <th></th>\n",
       "      <th>artistName</th>\n",
       "      <th>msPlayed</th>\n",
       "    </tr>\n",
       "  </thead>\n",
       "  <tbody>\n",
       "    <tr>\n",
       "      <th>8</th>\n",
       "      <td>geniusbrain</td>\n",
       "      <td>193281551</td>\n",
       "    </tr>\n",
       "    <tr>\n",
       "      <th>9</th>\n",
       "      <td>halfcast podcast</td>\n",
       "      <td>185646981</td>\n",
       "    </tr>\n",
       "    <tr>\n",
       "      <th>19</th>\n",
       "      <td>views with david dobrik and jason nash</td>\n",
       "      <td>135135404</td>\n",
       "    </tr>\n",
       "    <tr>\n",
       "      <th>18</th>\n",
       "      <td>the joe budden podcast with rory &amp; mal</td>\n",
       "      <td>125941440</td>\n",
       "    </tr>\n",
       "    <tr>\n",
       "      <th>20</th>\n",
       "      <td>zane and heath: unfiltered</td>\n",
       "      <td>81660057</td>\n",
       "    </tr>\n",
       "    <tr>\n",
       "      <th>17</th>\n",
       "      <td>the daily</td>\n",
       "      <td>36449287</td>\n",
       "    </tr>\n",
       "    <tr>\n",
       "      <th>5</th>\n",
       "      <td>call her daddy</td>\n",
       "      <td>36430473</td>\n",
       "    </tr>\n",
       "    <tr>\n",
       "      <th>1</th>\n",
       "      <td>andrew schulz's flagrant 2 with akaash singh</td>\n",
       "      <td>29866057</td>\n",
       "    </tr>\n",
       "    <tr>\n",
       "      <th>12</th>\n",
       "      <td>no chaser with timothy delaghetto</td>\n",
       "      <td>26179249</td>\n",
       "    </tr>\n",
       "    <tr>\n",
       "      <th>16</th>\n",
       "      <td>the brilliant idiots</td>\n",
       "      <td>23455154</td>\n",
       "    </tr>\n",
       "  </tbody>\n",
       "</table>\n",
       "</div>"
      ],
      "text/plain": [
       "                                      artistName   msPlayed\n",
       "8                                    geniusbrain  193281551\n",
       "9                               halfcast podcast  185646981\n",
       "19        views with david dobrik and jason nash  135135404\n",
       "18        the joe budden podcast with rory & mal  125941440\n",
       "20                    zane and heath: unfiltered   81660057\n",
       "17                                     the daily   36449287\n",
       "5                                 call her daddy   36430473\n",
       "1   andrew schulz's flagrant 2 with akaash singh   29866057\n",
       "12             no chaser with timothy delaghetto   26179249\n",
       "16                          the brilliant idiots   23455154"
      ]
     },
     "execution_count": 164,
     "metadata": {},
     "output_type": "execute_result"
    }
   ],
   "source": [
    "#top 10 podcasts\n",
    "df_podcasts.head(10)"
   ]
  },
  {
   "cell_type": "code",
   "execution_count": 165,
   "metadata": {},
   "outputs": [],
   "source": [
    "#change ms to hours and rename columns"
   ]
  },
  {
   "cell_type": "code",
   "execution_count": 166,
   "metadata": {},
   "outputs": [],
   "source": [
    "df_podcasts.columns=['artistName','Total msPlayed']"
   ]
  },
  {
   "cell_type": "code",
   "execution_count": 167,
   "metadata": {},
   "outputs": [],
   "source": [
    "df_podcasts['Total_Hours_Played']=df_podcasts['Total msPlayed']/3600000"
   ]
  },
  {
   "cell_type": "code",
   "execution_count": 168,
   "metadata": {},
   "outputs": [],
   "source": [
    "df_podcasts.drop(['Total msPlayed'],axis=1,inplace=True)"
   ]
  },
  {
   "cell_type": "code",
   "execution_count": 169,
   "metadata": {},
   "outputs": [],
   "source": [
    "#Visualise my top 10 podcasts by hours listened"
   ]
  },
  {
   "cell_type": "code",
   "execution_count": 361,
   "metadata": {},
   "outputs": [
    {
     "data": {
      "image/png": "[encoded data removed]",
      "text/plain": [
       "<Figure size 864x864 with 1 Axes>"
      ]
     },
     "metadata": {
      "needs_background": "light"
     },
     "output_type": "display_data"
    }
   ],
   "source": [
    "plt.figure(figsize=(12,12))\n",
    "sns.barplot(x='artistName',y='Total_Hours_Played',data=df_podcasts.head(10),palette='PuBu')\n",
    "plt.xticks( rotation=90)\n",
    "plt.xlabel('Podcast Shows')\n",
    "plt.ylabel('Total hours listened to')\n",
    "plt.title('Favourite Podcasts')\n",
    "plt.show()"
   ]
  },
  {
   "cell_type": "code",
   "execution_count": 171,
   "metadata": {},
   "outputs": [],
   "source": [
    "#Distinguish music from podcasts, exclude granular(white/brown noise)"
   ]
  },
  {
   "cell_type": "code",
   "execution_count": 266,
   "metadata": {},
   "outputs": [],
   "source": [
    "df_music=df.loc[df['msPlayed']<900000]"
   ]
  },
  {
   "cell_type": "code",
   "execution_count": 275,
   "metadata": {},
   "outputs": [],
   "source": [
    "#filter out white noise,cabin sound and granular"
   ]
  },
  {
   "cell_type": "code",
   "execution_count": 271,
   "metadata": {},
   "outputs": [],
   "source": [
    "df_music=df_music[(~df_music['artistName'].str.contains(\"noise\"))& (~df_music['artistName'].str.contains('cabin sound'))& (~df_music['artistName'].str.contains('granular'))]"
   ]
  },
  {
   "cell_type": "code",
   "execution_count": 272,
   "metadata": {},
   "outputs": [],
   "source": [
    "#Discover your top 10 artists by total ms listened to"
   ]
  },
  {
   "cell_type": "code",
   "execution_count": 273,
   "metadata": {},
   "outputs": [],
   "source": [
    "df_music=df_music.groupby([ 'artistName'], as_index=False).sum().sort_values(by='msPlayed', ascending = False)"
   ]
  },
  {
   "cell_type": "code",
   "execution_count": 274,
   "metadata": {},
   "outputs": [
    {
     "data": {
      "text/html": [
       "<div>\n",
       "<style scoped>\n",
       "    .dataframe tbody tr th:only-of-type {\n",
       "        vertical-align: middle;\n",
       "    }\n",
       "\n",
       "    .dataframe tbody tr th {\n",
       "        vertical-align: top;\n",
       "    }\n",
       "\n",
       "    .dataframe thead th {\n",
       "        text-align: right;\n",
       "    }\n",
       "</style>\n",
       "<table border=\"1\" class=\"dataframe\">\n",
       "  <thead>\n",
       "    <tr style=\"text-align: right;\">\n",
       "      <th></th>\n",
       "      <th>artistName</th>\n",
       "      <th>msPlayed</th>\n",
       "    </tr>\n",
       "  </thead>\n",
       "  <tbody>\n",
       "    <tr>\n",
       "      <th>1087</th>\n",
       "      <td>kygo</td>\n",
       "      <td>117114604</td>\n",
       "    </tr>\n",
       "    <tr>\n",
       "      <th>459</th>\n",
       "      <td>dave</td>\n",
       "      <td>100433873</td>\n",
       "    </tr>\n",
       "    <tr>\n",
       "      <th>1001</th>\n",
       "      <td>kanye west</td>\n",
       "      <td>67816454</td>\n",
       "    </tr>\n",
       "    <tr>\n",
       "      <th>869</th>\n",
       "      <td>j hus</td>\n",
       "      <td>62150609</td>\n",
       "    </tr>\n",
       "    <tr>\n",
       "      <th>1236</th>\n",
       "      <td>marlo</td>\n",
       "      <td>50146885</td>\n",
       "    </tr>\n",
       "    <tr>\n",
       "      <th>320</th>\n",
       "      <td>calvin harris</td>\n",
       "      <td>49944938</td>\n",
       "    </tr>\n",
       "    <tr>\n",
       "      <th>1534</th>\n",
       "      <td>pop smoke</td>\n",
       "      <td>47985898</td>\n",
       "    </tr>\n",
       "    <tr>\n",
       "      <th>1200</th>\n",
       "      <td>madeon</td>\n",
       "      <td>45491718</td>\n",
       "    </tr>\n",
       "    <tr>\n",
       "      <th>1241</th>\n",
       "      <td>martin garrix</td>\n",
       "      <td>39973284</td>\n",
       "    </tr>\n",
       "    <tr>\n",
       "      <th>131</th>\n",
       "      <td>armin van buuren</td>\n",
       "      <td>38525651</td>\n",
       "    </tr>\n",
       "  </tbody>\n",
       "</table>\n",
       "</div>"
      ],
      "text/plain": [
       "            artistName   msPlayed\n",
       "1087              kygo  117114604\n",
       "459               dave  100433873\n",
       "1001        kanye west   67816454\n",
       "869              j hus   62150609\n",
       "1236             marlo   50146885\n",
       "320      calvin harris   49944938\n",
       "1534         pop smoke   47985898\n",
       "1200            madeon   45491718\n",
       "1241     martin garrix   39973284\n",
       "131   armin van buuren   38525651"
      ]
     },
     "execution_count": 274,
     "metadata": {},
     "output_type": "execute_result"
    }
   ],
   "source": [
    "df_music.head(10)"
   ]
  },
  {
   "cell_type": "code",
   "execution_count": 276,
   "metadata": {},
   "outputs": [],
   "source": [
    "#convert ms to hours and rename columns"
   ]
  },
  {
   "cell_type": "code",
   "execution_count": 279,
   "metadata": {},
   "outputs": [],
   "source": [
    "df_music.columns=['artistName','Total msPlayed']"
   ]
  },
  {
   "cell_type": "code",
   "execution_count": 280,
   "metadata": {},
   "outputs": [],
   "source": [
    "df_music['Total_Hours_Played']=df_music['Total msPlayed']/3600000"
   ]
  },
  {
   "cell_type": "code",
   "execution_count": 281,
   "metadata": {},
   "outputs": [],
   "source": [
    "df_music.drop(['Total msPlayed'],axis=1,inplace=True)"
   ]
  },
  {
   "cell_type": "code",
   "execution_count": 282,
   "metadata": {},
   "outputs": [],
   "source": [
    "#15 of your favourite artist based on total listening time"
   ]
  },
  {
   "cell_type": "code",
   "execution_count": 283,
   "metadata": {},
   "outputs": [
    {
     "data": {
      "text/html": [
       "<div>\n",
       "<style scoped>\n",
       "    .dataframe tbody tr th:only-of-type {\n",
       "        vertical-align: middle;\n",
       "    }\n",
       "\n",
       "    .dataframe tbody tr th {\n",
       "        vertical-align: top;\n",
       "    }\n",
       "\n",
       "    .dataframe thead th {\n",
       "        text-align: right;\n",
       "    }\n",
       "</style>\n",
       "<table border=\"1\" class=\"dataframe\">\n",
       "  <thead>\n",
       "    <tr style=\"text-align: right;\">\n",
       "      <th></th>\n",
       "      <th>artistName</th>\n",
       "      <th>Total_Hours_Played</th>\n",
       "    </tr>\n",
       "  </thead>\n",
       "  <tbody>\n",
       "    <tr>\n",
       "      <th>1087</th>\n",
       "      <td>kygo</td>\n",
       "      <td>32.531834</td>\n",
       "    </tr>\n",
       "    <tr>\n",
       "      <th>459</th>\n",
       "      <td>dave</td>\n",
       "      <td>27.898298</td>\n",
       "    </tr>\n",
       "    <tr>\n",
       "      <th>1001</th>\n",
       "      <td>kanye west</td>\n",
       "      <td>18.837904</td>\n",
       "    </tr>\n",
       "    <tr>\n",
       "      <th>869</th>\n",
       "      <td>j hus</td>\n",
       "      <td>17.264058</td>\n",
       "    </tr>\n",
       "    <tr>\n",
       "      <th>1236</th>\n",
       "      <td>marlo</td>\n",
       "      <td>13.929690</td>\n",
       "    </tr>\n",
       "    <tr>\n",
       "      <th>320</th>\n",
       "      <td>calvin harris</td>\n",
       "      <td>13.873594</td>\n",
       "    </tr>\n",
       "    <tr>\n",
       "      <th>1534</th>\n",
       "      <td>pop smoke</td>\n",
       "      <td>13.329416</td>\n",
       "    </tr>\n",
       "    <tr>\n",
       "      <th>1200</th>\n",
       "      <td>madeon</td>\n",
       "      <td>12.636588</td>\n",
       "    </tr>\n",
       "    <tr>\n",
       "      <th>1241</th>\n",
       "      <td>martin garrix</td>\n",
       "      <td>11.103690</td>\n",
       "    </tr>\n",
       "    <tr>\n",
       "      <th>131</th>\n",
       "      <td>armin van buuren</td>\n",
       "      <td>10.701570</td>\n",
       "    </tr>\n",
       "    <tr>\n",
       "      <th>1961</th>\n",
       "      <td>the wombats</td>\n",
       "      <td>10.578283</td>\n",
       "    </tr>\n",
       "    <tr>\n",
       "      <th>959</th>\n",
       "      <td>jorja smith</td>\n",
       "      <td>9.337480</td>\n",
       "    </tr>\n",
       "    <tr>\n",
       "      <th>1676</th>\n",
       "      <td>s1mba</td>\n",
       "      <td>8.532481</td>\n",
       "    </tr>\n",
       "    <tr>\n",
       "      <th>362</th>\n",
       "      <td>chill machine</td>\n",
       "      <td>7.755579</td>\n",
       "    </tr>\n",
       "    <tr>\n",
       "      <th>1959</th>\n",
       "      <td>the weeknd</td>\n",
       "      <td>7.507319</td>\n",
       "    </tr>\n",
       "  </tbody>\n",
       "</table>\n",
       "</div>"
      ],
      "text/plain": [
       "            artistName  Total_Hours_Played\n",
       "1087              kygo           32.531834\n",
       "459               dave           27.898298\n",
       "1001        kanye west           18.837904\n",
       "869              j hus           17.264058\n",
       "1236             marlo           13.929690\n",
       "320      calvin harris           13.873594\n",
       "1534         pop smoke           13.329416\n",
       "1200            madeon           12.636588\n",
       "1241     martin garrix           11.103690\n",
       "131   armin van buuren           10.701570\n",
       "1961       the wombats           10.578283\n",
       "959        jorja smith            9.337480\n",
       "1676             s1mba            8.532481\n",
       "362      chill machine            7.755579\n",
       "1959        the weeknd            7.507319"
      ]
     },
     "execution_count": 283,
     "metadata": {},
     "output_type": "execute_result"
    }
   ],
   "source": [
    "df_music.head(15)"
   ]
  },
  {
   "cell_type": "code",
   "execution_count": 284,
   "metadata": {},
   "outputs": [],
   "source": [
    "#visualise top 10 artists listened to "
   ]
  },
  {
   "cell_type": "code",
   "execution_count": 368,
   "metadata": {},
   "outputs": [
    {
     "data": {
      "image/png": "[encoded data removed]",
      "text/plain": [
       "<Figure size 864x864 with 1 Axes>"
      ]
     },
     "metadata": {
      "needs_background": "light"
     },
     "output_type": "display_data"
    }
   ],
   "source": [
    "plt.figure(figsize=(12,12))\n",
    "sns.barplot(y='artistName',x='Total_Hours_Played',data=df_music.head(10),palette='GnBu')\n",
    "plt.xticks( rotation=90)\n",
    "plt.ylabel('Artists')\n",
    "plt.xlabel('Total hours listened to')\n",
    "plt.title('Favourite Artists')\n",
    "plt.show()"
   ]
  },
  {
   "cell_type": "code",
   "execution_count": 342,
   "metadata": {},
   "outputs": [],
   "source": [
    "fav_song=df.loc[(df['msPlayed']<900000)]"
   ]
  },
  {
   "cell_type": "code",
   "execution_count": 343,
   "metadata": {},
   "outputs": [],
   "source": [
    "fav_song=fav_song.groupby([ 'trackName'], as_index=False).sum().sort_values(by='msPlayed', ascending = False)"
   ]
  },
  {
   "cell_type": "code",
   "execution_count": 344,
   "metadata": {},
   "outputs": [],
   "source": [
    "#drop all the white noise "
   ]
  },
  {
   "cell_type": "code",
   "execution_count": 345,
   "metadata": {},
   "outputs": [],
   "source": [
    "fav_song=fav_song[(~fav_song['trackName'].str.contains(\"noise\"))& (~fav_song['trackName'].str.contains('cabin sound'))&(~fav_song['trackName'].str.contains('granular'))]"
   ]
  },
  {
   "cell_type": "code",
   "execution_count": 346,
   "metadata": {},
   "outputs": [],
   "source": [
    "#convert ms to minutes and rename columns"
   ]
  },
  {
   "cell_type": "code",
   "execution_count": 347,
   "metadata": {},
   "outputs": [],
   "source": [
    "fav_song.columns=['trackName','Total msPlayed']"
   ]
  },
  {
   "cell_type": "code",
   "execution_count": 348,
   "metadata": {},
   "outputs": [],
   "source": [
    "fav_song['Total_Minutes_Played']=fav_song['Total msPlayed']/60000"
   ]
  },
  {
   "cell_type": "code",
   "execution_count": 349,
   "metadata": {},
   "outputs": [],
   "source": [
    "fav_song.drop(['Total msPlayed'],axis=1,inplace=True)"
   ]
  },
  {
   "cell_type": "code",
   "execution_count": 350,
   "metadata": {},
   "outputs": [
    {
     "data": {
      "text/html": [
       "<div>\n",
       "<style scoped>\n",
       "    .dataframe tbody tr th:only-of-type {\n",
       "        vertical-align: middle;\n",
       "    }\n",
       "\n",
       "    .dataframe tbody tr th {\n",
       "        vertical-align: top;\n",
       "    }\n",
       "\n",
       "    .dataframe thead th {\n",
       "        text-align: right;\n",
       "    }\n",
       "</style>\n",
       "<table border=\"1\" class=\"dataframe\">\n",
       "  <thead>\n",
       "    <tr style=\"text-align: right;\">\n",
       "      <th></th>\n",
       "      <th>trackName</th>\n",
       "      <th>Total_Minutes_Played</th>\n",
       "    </tr>\n",
       "  </thead>\n",
       "  <tbody>\n",
       "    <tr>\n",
       "      <th>4459</th>\n",
       "      <td>sex, love &amp; water (mix cut) - mark sixma remix</td>\n",
       "      <td>258.842933</td>\n",
       "    </tr>\n",
       "    <tr>\n",
       "      <th>3217</th>\n",
       "      <td>mammoth</td>\n",
       "      <td>231.015217</td>\n",
       "    </tr>\n",
       "    <tr>\n",
       "      <th>5089</th>\n",
       "      <td>tequila</td>\n",
       "      <td>220.586950</td>\n",
       "    </tr>\n",
       "    <tr>\n",
       "      <th>5959</th>\n",
       "      <td>you're on (feat. kyan)</td>\n",
       "      <td>220.183483</td>\n",
       "    </tr>\n",
       "    <tr>\n",
       "      <th>4409</th>\n",
       "      <td>screwface capital</td>\n",
       "      <td>219.778850</td>\n",
       "    </tr>\n",
       "    <tr>\n",
       "      <th>928</th>\n",
       "      <td>carry on (from the original motion picture \"po...</td>\n",
       "      <td>217.029350</td>\n",
       "    </tr>\n",
       "    <tr>\n",
       "      <th>2069</th>\n",
       "      <td>good life</td>\n",
       "      <td>198.029833</td>\n",
       "    </tr>\n",
       "    <tr>\n",
       "      <th>755</th>\n",
       "      <td>both</td>\n",
       "      <td>192.723333</td>\n",
       "    </tr>\n",
       "    <tr>\n",
       "      <th>4786</th>\n",
       "      <td>stargazing</td>\n",
       "      <td>177.272317</td>\n",
       "    </tr>\n",
       "    <tr>\n",
       "      <th>5246</th>\n",
       "      <td>thiago silva</td>\n",
       "      <td>175.733617</td>\n",
       "    </tr>\n",
       "  </tbody>\n",
       "</table>\n",
       "</div>"
      ],
      "text/plain": [
       "                                              trackName  Total_Minutes_Played\n",
       "4459     sex, love & water (mix cut) - mark sixma remix            258.842933\n",
       "3217                                            mammoth            231.015217\n",
       "5089                                            tequila            220.586950\n",
       "5959                             you're on (feat. kyan)            220.183483\n",
       "4409                                  screwface capital            219.778850\n",
       "928   carry on (from the original motion picture \"po...            217.029350\n",
       "2069                                          good life            198.029833\n",
       "755                                                both            192.723333\n",
       "4786                                         stargazing            177.272317\n",
       "5246                                       thiago silva            175.733617"
      ]
     },
     "execution_count": 350,
     "metadata": {},
     "output_type": "execute_result"
    }
   ],
   "source": [
    "fav_song.head(10)"
   ]
  },
  {
   "cell_type": "code",
   "execution_count": 369,
   "metadata": {},
   "outputs": [
    {
     "data": {
      "image/png": "[encoded data removed]",
      "text/plain": [
       "<Figure size 864x864 with 1 Axes>"
      ]
     },
     "metadata": {
      "needs_background": "light"
     },
     "output_type": "display_data"
    }
   ],
   "source": [
    "plt.figure(figsize=(12,12))\n",
    "sns.barplot(x='trackName',y='Total_Minutes_Played',data=fav_song.head(10),palette='Spectral')\n",
    "plt.xticks( rotation=90)\n",
    "plt.xlabel('Songs')\n",
    "plt.ylabel('Total minutes listened to')\n",
    "plt.title('Favourite Songs')\n",
    "plt.show()"
   ]
  },
  {
   "cell_type": "code",
   "execution_count": null,
   "metadata": {},
   "outputs": [],
   "source": []
  }
 ],
 "metadata": {
  "kernelspec": {
   "display_name": "project_env",
   "language": "python",
   "name": "project_env"
  },
  "language_info": {
   "codemirror_mode": {
    "name": "ipython",
    "version": 3
   },
   "file_extension": ".py",
   "mimetype": "text/x-python",
   "name": "python",
   "nbconvert_exporter": "python",
   "pygments_lexer": "ipython3",
   "version": "3.8.0"
  }
 },
 "nbformat": 4,
 "nbformat_minor": 4
}
